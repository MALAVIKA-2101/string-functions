{
 "cells": [
  {
   "cell_type": "code",
   "execution_count": null,
   "id": "f67d034e",
   "metadata": {},
   "outputs": [
    {
     "name": "stdout",
     "output_type": "stream",
     "text": [
      "string functions\n",
      "1.title\n",
      "2.isdecimal\n",
      "3.islower\n",
      "4.split\n",
      "5.capitalize\n",
      "6.swapcase\n",
      "7.count\n",
      "8.zfill\n",
      "9.rstrip\n",
      "10.rjust\n"
     ]
    }
   ],
   "source": [
    "def title(input_string):\n",
    "    return input_string.title()\n",
    "def isdecimal(input_string):\n",
    "    return input_string.isdecimal()\n",
    "def islower(input_string):\n",
    "    return input_string.islower()\n",
    "def split(input_string):\n",
    "    return input_string.split()\n",
    "def capitalize(input_string):\n",
    "    return input_string.capitalize()\n",
    "def swapcase(input_string):\n",
    "    return input_strig.swapcase()\n",
    "def count(input_string):\n",
    "    return input_string.count()\n",
    "def zfill(input_string):\n",
    "    return input_string.zfill()\n",
    "def rstrip(input_string):\n",
    "    return input_string.strip()\n",
    "def rjust(input_string):\n",
    "    return input_string.rjust()\n",
    "#to display the functions that are available to the program\n",
    "while True:\n",
    "    print(\"string functions\")\n",
    "    print(\"1.title\")\n",
    "    print(\"2.isdecimal\")\n",
    "    print(\"3.islower\")\n",
    "    print(\"4.split\")\n",
    "    print(\"5.capitalize\")\n",
    "    print(\"6.swapcase\")\n",
    "    print(\"7.count\")\n",
    "    print(\"8.zfill\")\n",
    "    print(\"9.rstrip\")\n",
    "    print(\"10.rjust\")\n",
    "#to get the choice and input from the user\n",
    "    choice=int(input(\"enter the function number(1-10): \"))\n",
    "    input_string=input(\"enter the string: \")\n",
    "    \"'BASED ON THE CHOICE  MADE BY THE USER THE CONDITION STATEMENTS ARE GIVEN TO EXECUTE  '\"\n",
    "    if choice==1:\n",
    "        print(title(input_string))\n",
    "    elif choice==2:\n",
    "        print(isdecimal(input_string))\n",
    "    elif choice==3: \n",
    "        print(islower(input_string))\n",
    "    elif choice==4:\n",
    "        print(split(input_string))\n",
    "    elif choice==5:\n",
    "        print(capitalize(input_string))\n",
    "    elif choice==6:  \n",
    "        print(swapcase(input_string))\n",
    "    elif choice==7: \n",
    "         print(count(input_string))\n",
    "    elif choice==8:        \n",
    "         print(zfill(input_string))\n",
    "    elif choice==9: \n",
    "        print(rstrip(input_string))\n",
    "    elif choice==10:\n",
    "         print(rjust(input_string))\n",
    "    else:\n",
    "        print(\"invalid choice .enter the number between 1 to 10.\")\n",
    "        \n",
    "    continue_program=input(\"do you want to continue? (yes/no):\")\n",
    "    if continue_program.lower()!='yes':\n",
    "        break\n",
    "            \n",
    "            "
   ]
  },
  {
   "cell_type": "code",
   "execution_count": null,
   "id": "5f79b23c",
   "metadata": {},
   "outputs": [],
   "source": []
  }
 ],
 "metadata": {
  "kernelspec": {
   "display_name": "Python 3 (ipykernel)",
   "language": "python",
   "name": "python3"
  },
  "language_info": {
   "codemirror_mode": {
    "name": "ipython",
    "version": 3
   },
   "file_extension": ".py",
   "mimetype": "text/x-python",
   "name": "python",
   "nbconvert_exporter": "python",
   "pygments_lexer": "ipython3",
   "version": "3.9.13"
  }
 },
 "nbformat": 4,
 "nbformat_minor": 5
}
